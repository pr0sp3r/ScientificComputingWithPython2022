{
 "cells": [
  {
   "cell_type": "markdown",
   "metadata": {},
   "source": [
    "1\\. **PCA on 3D dataset**\n",
    "\n",
    "* Generate a dataset simulating 3 features, each with N entries (N being ${\\cal O}(1000)$). Each feature is made by random numbers generated according the normal distribution $N(\\mu,\\sigma)$ with mean $\\mu_i$ and standard deviation $\\sigma_i$, with $i=1, 2, 3$. Generate the 3 variables $x_{i}$ such that:\n",
    "    * $x_1$ is distributed as $N(0,1)$\n",
    "    * $x_2$ is distributed as $x_1+N(0,3)$\n",
    "    * $x_3$ is given by $2x_1+x_2$\n",
    "* Find the eigenvectors and eigenvalues using the eigendecomposition of the covariance matrix\n",
    "* Find the eigenvectors and eigenvalues using the SVD. Check that the two procedures yield to same result\n",
    "* What percent of the total dataset's variability is explained by the principal components? Given how the dataset was constructed, do these make sense? Reduce the dimensionality of the system so that at least 99% of the total variability is retained\n",
    "* Redefine the data according to the new basis from the PCA\n",
    "* Plot the data, in both the original and the new basis. The figure should have 2 rows (the original and the new basis) and 3 columns (the $[x_0, x_1]$, $[x_0, x_2]$ and $[x_1, x_2]$ projections) of scatter plots."
   ]
  },
  {
   "cell_type": "code",
   "execution_count": 13,
   "metadata": {},
   "outputs": [
    {
     "name": "stdout",
     "output_type": "stream",
     "text": [
      "Eigenvalues:\n",
      " [ 2.81346400e+01 -2.11607874e-15  2.02362998e+00] \n",
      "\n",
      "Eigenvectors:\n",
      " [[-0.1145129  -0.81649658  0.56587996]\n",
      " [-0.57854567 -0.40824829 -0.70612905]\n",
      " [-0.80757148  0.40824829  0.42563087]] \n",
      "\n",
      "Eigenvalues:\n",
      " [2.74252474e+01 1.99457801e+00 1.55271721e-31] \n",
      "\n",
      "Eigenvectors:\n",
      " [[-0.1145169   0.56587915 -0.81649658]\n",
      " [-0.57854069 -0.70613313 -0.40824829]\n",
      " [-0.80757449  0.42562517  0.40824829]] \n",
      "\n",
      "variability retained choosing the first component: 93.2899666505502\n",
      "variability retained chooding the 2 largest eigenvalues: 100.00000000000003\n"
     ]
    }
   ],
   "source": [
    "import numpy as np\n",
    "import matplotlib.pyplot as plt\n",
    "from numpy import linalg as la\n",
    "\n",
    "# Generate the dataset\n",
    "N = 10000\n",
    "x1 = np.random.normal(0, 1, N)\n",
    "x2 = x1 + np.random.normal(0, 3, N)\n",
    "x3 = 2*x1 + x2\n",
    "X = np.array([x1, x2, x3])\n",
    "\n",
    "# Compute the eigenvectors and eigenvalues using the eigendecomposition of the covariance matrix\n",
    "cov = np.cov(X)\n",
    "l, V = la.eig(cov)\n",
    "l= np.real_if_close(l)\n",
    "\n",
    "print(\"Eigenvalues:\\n\", l, '\\n')\n",
    "print(\"Eigenvectors:\\n\", V, '\\n')\n",
    "\n",
    "# Compute the eigenvectors and eigenvalues using the SVD\n",
    "U, S, Vt = la.svd(X)\n",
    "l_svd = s**2/(N-1)\n",
    "print(\"Eigenvalues:\\n\", l_svd, '\\n')\n",
    "print(\"Eigenvectors:\\n\", U, '\\n')\n",
    "\n",
    "\n",
    "#reducing dimensions + estimate nof retained variability\n",
    "Lambda=np.diag(np.sort(l)[::-1])\n",
    "p = Lambda[0][0] / Lambda.trace()\n",
    "p2 = (Lambda[0][0] + Lambda[1][1])/Lambda.trace()\n",
    "\n",
    "print(f\"variability retained choosing the first component: {p*100}\")\n",
    "print(f\"variability retained chooding the 2 largest eigenvalues: {p2*100}\")\n",
    "      "
   ]
  },
  {
   "cell_type": "markdown",
   "metadata": {},
   "source": [
    "2\\. **PCA on a nD dataset**\n",
    "\n",
    "* Start from the dataset you have genereted in the previous exercise and add uncorrelated random noise. Such noise should be represented by other 10 uncorrelated variables normally distributed, with a standard deviation much smaller (e.g. a factor 20) than those used to generate the $x_1$ and $x_2$. Repeat the PCA procedure and compare the results with what you have obtained before."
   ]
  },
  {
   "cell_type": "code",
   "execution_count": 42,
   "metadata": {},
   "outputs": [
    {
     "name": "stdout",
     "output_type": "stream",
     "text": [
      "Covariance Matrix:\n",
      "[[ 1.30834128  1.20242191  3.24907005]\n",
      " [ 1.20242191 10.76528468 12.71726984]\n",
      " [ 3.24907005 12.71726984 19.08004388]] \n",
      "\n",
      "Eigendecomposition:\n",
      "Eigenvalues:\n",
      " [28.70890042  0.24151083  2.20325859]\n",
      "Eigenvectors:\n",
      " [[-0.12100129 -0.80870633  0.57563248]\n",
      " [-0.57937149 -0.41333579 -0.70248289]\n",
      " [-0.80603187  0.41850638  0.41852723]]\n",
      "\n",
      "variability retained choosing the first component: 92.15254757964783\n",
      "variability retained chooding the 2 largest eigenvalues: 99.22477566617893\n"
     ]
    }
   ],
   "source": [
    "for n in range(3):\n",
    "    for e in range(10):\n",
    "        X[n] = X[n] + np.random.normal(0, 1/20, N)\n",
    "\n",
    "# covariance matrix\n",
    "covn = np.cov(X)\n",
    "# find the eigenvectors of the covariance matrix\n",
    "ln, Vn = la.eig(covn)\n",
    "# take only the real component\n",
    "ln = np.real_if_close(ln)\n",
    "\n",
    "print('Covariance Matrix:')\n",
    "print(covn,'\\n')\n",
    "\n",
    "print(\"Eigendecomposition:\")\n",
    "print(\"Eigenvalues:\\n\", ln)\n",
    "print(\"Eigenvectors:\\n\", Vn)\n",
    "\n",
    "Lambda2 = np.diag(np.sort(ln)[::-1]) #sort the eigenvalues in descending order\n",
    "p2 = Lambda2[0][0]/Lambda2.trace()\n",
    "p22 = (Lambda2[0][0]+Lambda2[1][1])/Lambda2.trace()\n",
    "print()\n",
    "print(f\"variability retained choosing the first component: {p2*100}\")\n",
    "print(f\"variability retained chooding the 2 largest eigenvalues: {p22*100}\")"
   ]
  },
  {
   "cell_type": "code",
   "execution_count": null,
   "metadata": {},
   "outputs": [],
   "source": []
  },
  {
   "cell_type": "markdown",
   "metadata": {},
   "source": [
    "3\\. **Optional**: **PCA on the MAGIC dataset**\n",
    "\n",
    "Perform a PCA on the magic04.data dataset."
   ]
  },
  {
   "cell_type": "code",
   "execution_count": null,
   "metadata": {},
   "outputs": [],
   "source": [
    "# get the dataset and its description on the proper data directory\n",
    "#!wget https://archive.ics.uci.edu/ml/machine-learning-databases/magic/magic04.data -P data/\n",
    "#!wget https://archive.ics.uci.edu/ml/machine-learning-databases/magic/magic04.names -P data/ "
   ]
  },
  {
   "cell_type": "code",
   "execution_count": null,
   "metadata": {},
   "outputs": [],
   "source": []
  }
 ],
 "metadata": {
  "kernelspec": {
   "display_name": "Python 3 (ipykernel)",
   "language": "python",
   "name": "python3"
  },
  "language_info": {
   "codemirror_mode": {
    "name": "ipython",
    "version": 3
   },
   "file_extension": ".py",
   "mimetype": "text/x-python",
   "name": "python",
   "nbconvert_exporter": "python",
   "pygments_lexer": "ipython3",
   "version": "3.10.8"
  }
 },
 "nbformat": 4,
 "nbformat_minor": 2
}
