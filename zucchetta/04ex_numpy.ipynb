{
 "cells": [
  {
   "cell_type": "markdown",
   "metadata": {},
   "source": [
    "1\\. **Reductions**\n",
    "\n",
    "Find the total mean, and the mean for each row and column of the following matrix:\n",
    "\n",
    "```python\n",
    "m = np.arange(12).reshape((3,4))\n",
    "```"
   ]
  },
  {
   "cell_type": "code",
   "execution_count": 1,
   "metadata": {},
   "outputs": [
    {
     "name": "stdout",
     "output_type": "stream",
     "text": [
      "[[ 0  1  2  3]\n",
      " [ 4  5  6  7]\n",
      " [ 8  9 10 11]] \n",
      "\n",
      "total mean:5.5, Column mean:[4. 5. 6. 7.],Row mean:[1.5 5.5 9.5]\n"
     ]
    }
   ],
   "source": [
    "import numpy as np\n",
    "m = np.arange(12).reshape((3,4))\n",
    "\n",
    "print(m,'\\n')\n",
    "print(f\"total mean:{m.mean()}, Column mean:{m.mean(0)},Row mean:{m.mean(1)}\")\n"
   ]
  },
  {
   "cell_type": "markdown",
   "metadata": {},
   "source": [
    "2\\. **Outer product**\n",
    "\n",
    "Find the outer product of the following vectors:\n",
    "\n",
    "```python\n",
    "u = np.array([1, 3, 5, 7])\n",
    "v = np.array([2, 4, 6, 8])\n",
    "```\n",
    "\n",
    "Use different methods to do this:\n",
    "\n",
    "   1. Using the function `outer` in numpy\n",
    "   2. Using a nested `for` loop or a list comprehension\n",
    "   3. Using numpy broadcasting operations"
   ]
  },
  {
   "cell_type": "code",
   "execution_count": 5,
   "metadata": {},
   "outputs": [],
   "source": [
    "u = np.array([1,3,5,7])\n",
    "v = np.array([2,4,6,8])"
   ]
  },
  {
   "cell_type": "code",
   "execution_count": 6,
   "metadata": {},
   "outputs": [
    {
     "data": {
      "text/plain": [
       "array([[ 2,  4,  6,  8],\n",
       "       [ 6, 12, 18, 24],\n",
       "       [10, 20, 30, 40],\n",
       "       [14, 28, 42, 56]])"
      ]
     },
     "execution_count": 6,
     "metadata": {},
     "output_type": "execute_result"
    }
   ],
   "source": [
    "np.outer(u,v)"
   ]
  },
  {
   "cell_type": "code",
   "execution_count": 3,
   "metadata": {},
   "outputs": [
    {
     "data": {
      "text/plain": [
       "array([[ 2,  4,  6,  8],\n",
       "       [ 6, 12, 18, 24],\n",
       "       [10, 20, 30, 40],\n",
       "       [14, 28, 42, 56]])"
      ]
     },
     "execution_count": 3,
     "metadata": {},
     "output_type": "execute_result"
    }
   ],
   "source": [
    "np.array([(x*y) for x in u for y in v]).reshape(4,4)"
   ]
  },
  {
   "cell_type": "code",
   "execution_count": 4,
   "metadata": {},
   "outputs": [
    {
     "data": {
      "text/plain": [
       "array([[ 2,  4,  6,  8],\n",
       "       [ 6, 12, 18, 24],\n",
       "       [10, 20, 30, 40],\n",
       "       [14, 28, 42, 56]])"
      ]
     },
     "execution_count": 4,
     "metadata": {},
     "output_type": "execute_result"
    }
   ],
   "source": [
    "u[:,np.newaxis]*v"
   ]
  },
  {
   "cell_type": "markdown",
   "metadata": {},
   "source": [
    "3\\. **Matrix masking**\n",
    "\n",
    "Create a 10 by 6 matrix of float random numbers, distributed between 0 and 3 according to a flat distribution.\n",
    "\n",
    "After creating the matrix, set all entries $< 0.3$ to zero using a mask."
   ]
  },
  {
   "cell_type": "code",
   "execution_count": 19,
   "metadata": {},
   "outputs": [
    {
     "data": {
      "text/plain": [
       "array([[1.91583911, 1.8098794 , 0.16276201, 2.50548679, 1.09271618,\n",
       "        0.3738967 ],\n",
       "       [2.54645432, 2.44171382, 1.98252548, 1.47464257, 2.97541223,\n",
       "        0.45187086],\n",
       "       [1.56924074, 2.65817854, 0.10986047, 2.17104428, 1.23295507,\n",
       "        0.74549802],\n",
       "       [0.9932066 , 1.59411809, 0.21207588, 2.90785402, 2.69382745,\n",
       "        0.26203936],\n",
       "       [1.15803438, 2.98291359, 1.43179168, 0.18748815, 0.40207711,\n",
       "        0.36446111],\n",
       "       [1.2501563 , 1.60839819, 1.37803187, 2.08776726, 1.61884894,\n",
       "        1.14263466],\n",
       "       [0.72418978, 2.47681011, 1.48275619, 1.9084892 , 1.5332961 ,\n",
       "        1.46953849],\n",
       "       [1.69142856, 0.34994284, 1.80527087, 0.60571831, 1.75253787,\n",
       "        2.15480499],\n",
       "       [2.67083774, 2.24252884, 2.98955346, 1.26480661, 2.25605825,\n",
       "        2.50491154],\n",
       "       [1.45815323, 0.162468  , 1.50563173, 1.54382835, 2.36506342,\n",
       "        2.29379251]])"
      ]
     },
     "execution_count": 19,
     "metadata": {},
     "output_type": "execute_result"
    }
   ],
   "source": [
    "nums = np.array(np.random.uniform(0,3,60))\n",
    "\n",
    "matr = nums.reshape(10,6)\n",
    "\n",
    "    \n",
    "\n",
    "matr"
   ]
  },
  {
   "cell_type": "markdown",
   "metadata": {},
   "source": [
    "4\\. **Trigonometric functions**\n",
    "\n",
    "Use `np.linspace` to create an array of 100 numbers between $0$ and $2\\pi$ (inclusive).\n",
    "\n",
    "  * Extract every 10th element using the slice notation\n",
    "  * Reverse the array using the slice notation\n",
    "  * Extract elements where the absolute difference between the `sin` and `cos` functions evaluated for that element is $< 0.1$\n",
    "  * **Optional**: make a plot showing the sin and cos functions and indicate where they are close"
   ]
  },
  {
   "cell_type": "code",
   "execution_count": 27,
   "metadata": {},
   "outputs": [],
   "source": [
    "m = np.linspace(0,2*np.pi,num=100)\n",
    "\n",
    "\n",
    "def closest_points(x):\n",
    "    output1=[]\n",
    "    output2=[]\n",
    "    for index,i in enumerate(x):\n",
    "        if np.absolute(np.sin(i)-np.cos(i)) < 0.1:\n",
    "            output1.append(i)\n",
    "            output2.append(index)           \n",
    "    return output2,output1"
   ]
  },
  {
   "cell_type": "code",
   "execution_count": 28,
   "metadata": {},
   "outputs": [
    {
     "data": {
      "text/plain": [
       "array([0.        , 0.06346652, 0.12693304, 0.19039955, 0.25386607,\n",
       "       0.31733259, 0.38079911, 0.44426563, 0.50773215, 0.57119866,\n",
       "       0.63466518, 0.6981317 , 0.76159822, 0.82506474, 0.88853126,\n",
       "       0.95199777, 1.01546429, 1.07893081, 1.14239733, 1.20586385,\n",
       "       1.26933037, 1.33279688, 1.3962634 , 1.45972992, 1.52319644,\n",
       "       1.58666296, 1.65012947, 1.71359599, 1.77706251, 1.84052903,\n",
       "       1.90399555, 1.96746207, 2.03092858, 2.0943951 , 2.15786162,\n",
       "       2.22132814, 2.28479466, 2.34826118, 2.41172769, 2.47519421,\n",
       "       2.53866073, 2.60212725, 2.66559377, 2.72906028, 2.7925268 ,\n",
       "       2.85599332, 2.91945984, 2.98292636, 3.04639288, 3.10985939,\n",
       "       3.17332591, 3.23679243, 3.30025895, 3.36372547, 3.42719199,\n",
       "       3.4906585 , 3.55412502, 3.61759154, 3.68105806, 3.74452458,\n",
       "       3.8079911 , 3.87145761, 3.93492413, 3.99839065, 4.06185717,\n",
       "       4.12532369, 4.1887902 , 4.25225672, 4.31572324, 4.37918976,\n",
       "       4.44265628, 4.5061228 , 4.56958931, 4.63305583, 4.69652235,\n",
       "       4.75998887, 4.82345539, 4.88692191, 4.95038842, 5.01385494,\n",
       "       5.07732146, 5.14078798, 5.2042545 , 5.26772102, 5.33118753,\n",
       "       5.39465405, 5.45812057, 5.52158709, 5.58505361, 5.64852012,\n",
       "       5.71198664, 5.77545316, 5.83891968, 5.9023862 , 5.96585272,\n",
       "       6.02931923, 6.09278575, 6.15625227, 6.21971879, 6.28318531])"
      ]
     },
     "execution_count": 28,
     "metadata": {},
     "output_type": "execute_result"
    }
   ],
   "source": [
    "m        # original array"
   ]
  },
  {
   "cell_type": "code",
   "execution_count": 25,
   "metadata": {},
   "outputs": [
    {
     "data": {
      "text/plain": [
       "array([0.57119866, 1.20586385, 1.84052903, 2.47519421, 3.10985939,\n",
       "       3.74452458, 4.37918976, 5.01385494, 5.64852012, 6.28318531])"
      ]
     },
     "execution_count": 25,
     "metadata": {},
     "output_type": "execute_result"
    }
   ],
   "source": [
    "m[9::10] #extracted values"
   ]
  },
  {
   "cell_type": "code",
   "execution_count": 26,
   "metadata": {},
   "outputs": [
    {
     "data": {
      "text/plain": [
       "array([6.28318531, 6.21971879, 6.15625227, 6.09278575, 6.02931923,\n",
       "       5.96585272, 5.9023862 , 5.83891968, 5.77545316, 5.71198664,\n",
       "       5.64852012, 5.58505361, 5.52158709, 5.45812057, 5.39465405,\n",
       "       5.33118753, 5.26772102, 5.2042545 , 5.14078798, 5.07732146,\n",
       "       5.01385494, 4.95038842, 4.88692191, 4.82345539, 4.75998887,\n",
       "       4.69652235, 4.63305583, 4.56958931, 4.5061228 , 4.44265628,\n",
       "       4.37918976, 4.31572324, 4.25225672, 4.1887902 , 4.12532369,\n",
       "       4.06185717, 3.99839065, 3.93492413, 3.87145761, 3.8079911 ,\n",
       "       3.74452458, 3.68105806, 3.61759154, 3.55412502, 3.4906585 ,\n",
       "       3.42719199, 3.36372547, 3.30025895, 3.23679243, 3.17332591,\n",
       "       3.10985939, 3.04639288, 2.98292636, 2.91945984, 2.85599332,\n",
       "       2.7925268 , 2.72906028, 2.66559377, 2.60212725, 2.53866073,\n",
       "       2.47519421, 2.41172769, 2.34826118, 2.28479466, 2.22132814,\n",
       "       2.15786162, 2.0943951 , 2.03092858, 1.96746207, 1.90399555,\n",
       "       1.84052903, 1.77706251, 1.71359599, 1.65012947, 1.58666296,\n",
       "       1.52319644, 1.45972992, 1.3962634 , 1.33279688, 1.26933037,\n",
       "       1.20586385, 1.14239733, 1.07893081, 1.01546429, 0.95199777,\n",
       "       0.88853126, 0.82506474, 0.76159822, 0.6981317 , 0.63466518,\n",
       "       0.57119866, 0.50773215, 0.44426563, 0.38079911, 0.31733259,\n",
       "       0.25386607, 0.19039955, 0.12693304, 0.06346652, 0.        ])"
      ]
     },
     "execution_count": 26,
     "metadata": {},
     "output_type": "execute_result"
    }
   ],
   "source": [
    "m[::-1]  # reversed array"
   ]
  },
  {
   "cell_type": "code",
   "execution_count": 23,
   "metadata": {},
   "outputs": [
    {
     "data": {
      "text/plain": [
       "([12, 13, 61, 62],\n",
       " [0.7615982190520711,\n",
       "  0.8250647373064104,\n",
       "  3.8714576135146945,\n",
       "  3.934924131769034])"
      ]
     },
     "execution_count": 23,
     "metadata": {},
     "output_type": "execute_result"
    }
   ],
   "source": [
    "diff(m) #closest points"
   ]
  },
  {
   "cell_type": "markdown",
   "metadata": {},
   "source": [
    "5\\. **Matrices**\n",
    "\n",
    "Create a matrix that shows the 10 by 10 multiplication table.\n",
    "\n",
    " * Find the trace of the matrix\n",
    " * Extract the anti-diagonal matrix (this should be ```array([10, 18, 24, 28, 30, 30, 28, 24, 18, 10])```)\n",
    " * Extract the diagonal offset by 1 upwards (this should be ```array([ 2,  6, 12, 20, 30, 42, 56, 72, 90])```)"
   ]
  },
  {
   "cell_type": "code",
   "execution_count": 30,
   "metadata": {},
   "outputs": [
    {
     "data": {
      "text/plain": [
       "array([[  1,   2,   3,   4,   5,   6,   7,   8,   9,  10],\n",
       "       [  2,   4,   6,   8,  10,  12,  14,  16,  18,  20],\n",
       "       [  3,   6,   9,  12,  15,  18,  21,  24,  27,  30],\n",
       "       [  4,   8,  12,  16,  20,  24,  28,  32,  36,  40],\n",
       "       [  5,  10,  15,  20,  25,  30,  35,  40,  45,  50],\n",
       "       [  6,  12,  18,  24,  30,  36,  42,  48,  54,  60],\n",
       "       [  7,  14,  21,  28,  35,  42,  49,  56,  63,  70],\n",
       "       [  8,  16,  24,  32,  40,  48,  56,  64,  72,  80],\n",
       "       [  9,  18,  27,  36,  45,  54,  63,  72,  81,  90],\n",
       "       [ 10,  20,  30,  40,  50,  60,  70,  80,  90, 100]])"
      ]
     },
     "execution_count": 30,
     "metadata": {},
     "output_type": "execute_result"
    }
   ],
   "source": [
    "dims = np.array(np.arange(1,11))\n",
    "matrix = np.outer(dims,dims)\n",
    "\n",
    "\n",
    "\n",
    "\n",
    "def anti_diagonal(x):\n",
    "    return np.fliplr(x).diagonal()\n",
    "\n",
    "\n",
    "matrix"
   ]
  },
  {
   "cell_type": "code",
   "execution_count": 31,
   "metadata": {},
   "outputs": [
    {
     "data": {
      "text/plain": [
       "385"
      ]
     },
     "execution_count": 31,
     "metadata": {},
     "output_type": "execute_result"
    }
   ],
   "source": [
    "np.trace(matrix) # trace of the matrix"
   ]
  },
  {
   "cell_type": "code",
   "execution_count": 32,
   "metadata": {},
   "outputs": [
    {
     "data": {
      "text/plain": [
       "array([10, 18, 24, 28, 30, 30, 28, 24, 18, 10])"
      ]
     },
     "execution_count": 32,
     "metadata": {},
     "output_type": "execute_result"
    }
   ],
   "source": [
    "anti_diagonal(matrix) #antidiaginal of the matrix"
   ]
  },
  {
   "cell_type": "code",
   "execution_count": 33,
   "metadata": {},
   "outputs": [
    {
     "data": {
      "text/plain": [
       "array([ 2,  6, 12, 20, 30, 42, 56, 72, 90])"
      ]
     },
     "execution_count": 33,
     "metadata": {},
     "output_type": "execute_result"
    }
   ],
   "source": [
    "np.diagonal(matrix[:,1:10]) #diagonal offset by 1 upwards "
   ]
  },
  {
   "cell_type": "markdown",
   "metadata": {},
   "source": [
    "6\\. **Broadcasting**\n",
    "\n",
    "Use broadcasting to create a grid of distances.\n",
    "\n",
    "Route 66 crosses the following cities in the US: Chicago, Springfield, Saint-Louis, Tulsa, Oklahoma City, Amarillo, Santa Fe, Albuquerque, Flagstaff, Los Angeles.\n",
    "\n",
    "The corresponding positions in miles are: 0, 198, 303, 736, 871, 1175, 1475, 1544, 1913, 2448\n",
    "\n",
    "  * Build a 2D grid of distances among each city along Route 66\n",
    "  * Convert the distances in km"
   ]
  },
  {
   "cell_type": "code",
   "execution_count": 35,
   "metadata": {},
   "outputs": [
    {
     "data": {
      "text/plain": [
       "array([   0,  198,  303,  736,  871, 1175, 1475, 1544, 1913, 2448])"
      ]
     },
     "execution_count": 35,
     "metadata": {},
     "output_type": "execute_result"
    }
   ],
   "source": [
    "positions_miles =np.array([0,198,303,736,871,1175,1475,1544,1913,2448])\n",
    "positions_miles"
   ]
  },
  {
   "cell_type": "code",
   "execution_count": 36,
   "metadata": {},
   "outputs": [
    {
     "data": {
      "text/plain": [
       "array([[   0,  198,  303,  736,  871, 1175, 1475, 1544, 1913, 2448],\n",
       "       [ 198,    0,  105,  538,  673,  977, 1277, 1346, 1715, 2250],\n",
       "       [ 303,  105,    0,  433,  568,  872, 1172, 1241, 1610, 2145],\n",
       "       [ 736,  538,  433,    0,  135,  439,  739,  808, 1177, 1712],\n",
       "       [ 871,  673,  568,  135,    0,  304,  604,  673, 1042, 1577],\n",
       "       [1175,  977,  872,  439,  304,    0,  300,  369,  738, 1273],\n",
       "       [1475, 1277, 1172,  739,  604,  300,    0,   69,  438,  973],\n",
       "       [1544, 1346, 1241,  808,  673,  369,   69,    0,  369,  904],\n",
       "       [1913, 1715, 1610, 1177, 1042,  738,  438,  369,    0,  535],\n",
       "       [2448, 2250, 2145, 1712, 1577, 1273,  973,  904,  535,    0]])"
      ]
     },
     "execution_count": 36,
     "metadata": {},
     "output_type": "execute_result"
    }
   ],
   "source": [
    "distances_miles = np.absolute(positions_miles[:,np.newaxis]-positions_miles)\n",
    "distances_miles"
   ]
  },
  {
   "cell_type": "code",
   "execution_count": 38,
   "metadata": {},
   "outputs": [
    {
     "data": {
      "text/plain": [
       "array([[   0.     ,  318.64932,  487.63002, 1184.47424, 1401.73514,\n",
       "        1890.9745 , 2373.7765 , 2484.82096, 3078.66742, 3939.66432],\n",
       "       [ 318.64932,    0.     ,  168.9807 ,  865.82492, 1083.08582,\n",
       "        1572.32518, 2055.12718, 2166.17164, 2760.0181 , 3621.015  ],\n",
       "       [ 487.63002,  168.9807 ,    0.     ,  696.84422,  914.10512,\n",
       "        1403.34448, 1886.14648, 1997.19094, 2591.0374 , 3452.0343 ],\n",
       "       [1184.47424,  865.82492,  696.84422,    0.     ,  217.2609 ,\n",
       "         706.50026, 1189.30226, 1300.34672, 1894.19318, 2755.19008],\n",
       "       [1401.73514, 1083.08582,  914.10512,  217.2609 ,    0.     ,\n",
       "         489.23936,  972.04136, 1083.08582, 1676.93228, 2537.92918],\n",
       "       [1890.9745 , 1572.32518, 1403.34448,  706.50026,  489.23936,\n",
       "           0.     ,  482.802  ,  593.84646, 1187.69292, 2048.68982],\n",
       "       [2373.7765 , 2055.12718, 1886.14648, 1189.30226,  972.04136,\n",
       "         482.802  ,    0.     ,  111.04446,  704.89092, 1565.88782],\n",
       "       [2484.82096, 2166.17164, 1997.19094, 1300.34672, 1083.08582,\n",
       "         593.84646,  111.04446,    0.     ,  593.84646, 1454.84336],\n",
       "       [3078.66742, 2760.0181 , 2591.0374 , 1894.19318, 1676.93228,\n",
       "        1187.69292,  704.89092,  593.84646,    0.     ,  860.9969 ],\n",
       "       [3939.66432, 3621.015  , 3452.0343 , 2755.19008, 2537.92918,\n",
       "        2048.68982, 1565.88782, 1454.84336,  860.9969 ,    0.     ]])"
      ]
     },
     "execution_count": 38,
     "metadata": {},
     "output_type": "execute_result"
    }
   ],
   "source": [
    "distances_km =(distances_miles*1.60934)\n",
    "distances_km"
   ]
  },
  {
   "cell_type": "markdown",
   "metadata": {},
   "source": [
    "7\\. **Prime numbers sieve**\n",
    "\n",
    "Compute the prime numbers in the 0-N (start with N=99) range with a sieve (mask).\n",
    "\n",
    "  * Constract a shape (N,) boolean array, which is the mask\n",
    "  * Identify the multiples of each number starting from 2 and set accordingly the corresponding mask element\n",
    "  * Apply the mask to obtain an array of ordered prime numbers\n",
    "  * Check the performances (with `timeit`); how does it scale with N?\n",
    "  * Implement the optimization suggested in the [sieve of Eratosthenes](https://en.wikipedia.org/wiki/Sieve_of_Eratosthenes)"
   ]
  },
  {
   "cell_type": "code",
   "execution_count": null,
   "metadata": {},
   "outputs": [],
   "source": []
  },
  {
   "cell_type": "markdown",
   "metadata": {},
   "source": [
    "8\\. **Diffusion using random walk**\n",
    "\n",
    "Consider a simple random walk process: at each step in time, a walker jumps right or left (+1 or -1) with equal probability. The goal is to find the typical distance from the origin of many random walkers after a given amount of time.\n",
    "\n",
    "*Hint*: create a 2D array where each row represents a walker, and each column represents a time step.\n",
    "\n",
    "  * Take 1000 walkers and let them walk for 200 steps\n",
    "  * Use `randint` to create a 2D array of size $walkers \\times steps$ with values -1 or 1\n",
    "  * Calculate the walking distances for each walker (e.g. by summing the elements in each row)\n",
    "  * Take the square of the previously-obtained array (element-wise)\n",
    "  * Compute the mean of the squared distances at each step (i.e. the mean along the columns)\n",
    "  * **Optional**: plot the average distances ($\\sqrt(distance^2)$) as a function of time (step)"
   ]
  },
  {
   "cell_type": "code",
   "execution_count": null,
   "metadata": {},
   "outputs": [],
   "source": []
  }
 ],
 "metadata": {
  "kernelspec": {
   "display_name": "Python 3 (ipykernel)",
   "language": "python",
   "name": "python3"
  },
  "language_info": {
   "codemirror_mode": {
    "name": "ipython",
    "version": 3
   },
   "file_extension": ".py",
   "mimetype": "text/x-python",
   "name": "python",
   "nbconvert_exporter": "python",
   "pygments_lexer": "ipython3",
   "version": "3.10.8"
  }
 },
 "nbformat": 4,
 "nbformat_minor": 2
}
